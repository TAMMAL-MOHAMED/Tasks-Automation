{
 "cells": [
  {
   "cell_type": "markdown",
   "id": "ba1a303e-0c1d-4db1-ad84-df8ec9a00047",
   "metadata": {},
   "source": [
    "# Resize Image System"
   ]
  },
  {
   "cell_type": "markdown",
   "id": "15b9fb92-008a-4d74-9873-896fe3156e1d",
   "metadata": {},
   "source": [
    "## Introduction"
   ]
  },
  {
   "cell_type": "markdown",
   "id": "a84baa8c-0a46-4e82-be14-0dc06cd12624",
   "metadata": {},
   "source": [
    "As my job role requires working with pictures, I am bound to resize them to a specific size so we can maintain the wonderful design and keep the organization pattern of items added to our website. I found myself having to do this process online, which takes time. Then, I got the idea to build a small little app using **customtkinter** and **Pillow** for image processing in Python. This way, I can just paste the path of the picture, and it will be resized and saved automatically at the same path.\n",
    "\n",
    "However, I realized that this still takes a little more time than doing the whole process online, although it is more convenient. So, I thought about finding a way to automate the resizing of any picture added to a specific folder. This way, I wouldn't need to copy the image path, paste it into the app, and click the resize button every time I needed to resize a picture. The **watchdog** package helped with this exactly. It keeps an eye on the specific folder I'm working with, and whenever I add a new picture, it resizes and saves it automatically. It might not seem like a big thing, but it has saved me time, which matters"
   ]
  },
  {
   "cell_type": "markdown",
   "id": "115d42da-5472-44ff-b337-0ebed025d166",
   "metadata": {},
   "source": [
    "## First Version "
   ]
  },
  {
   "cell_type": "markdown",
   "id": "d4437564-3591-4cf7-9ebd-80544c5a00c9",
   "metadata": {},
   "source": [
    "In this version I tried to create a simple GUI application using **CustomTkinter** to resize and pad images. Here is an explanation of the idea and the script."
   ]
  },
  {
   "cell_type": "markdown",
   "id": "94b34b58-eb71-42a6-990b-874ad57fee90",
   "metadata": {},
   "source": [
    "The following cell concerns the Imports:\n",
    "\n",
    "**customtkinter** : that's a custom module for Tkinter to create modern looking GUI applications. <br />\n",
    "**PIL.Image** : a module from the python Imaging Library (Pillow) to handle image processing taks."
   ]
  },
  {
   "cell_type": "code",
   "execution_count": 1,
   "id": "095b310f-0269-40a0-a083-a89550b4fa38",
   "metadata": {},
   "outputs": [],
   "source": [
    "import customtkinter \n",
    "from PIL import Image"
   ]
  },
  {
   "cell_type": "markdown",
   "id": "3d746b9c-c5b9-4802-a55e-89a1a27375f0",
   "metadata": {},
   "source": [
    "As regards to the appearance and theme settings, I set the appearance mode to \"light\" using **customtkinter.set_appearance_mode(\"light\")**, and the default color theme to \"dark-blue\" using **customtkinter.set_default_color_theme(\"dark-blue\")**. <br />\n",
    "Also I initialized the main window and set its size to 500 x 350 px."
   ]
  },
  {
   "cell_type": "code",
   "execution_count": 2,
   "id": "18fc9482-f77f-4e66-bea0-3968101051e0",
   "metadata": {},
   "outputs": [],
   "source": [
    "customtkinter.set_appearance_mode(\"light\")  \n",
    "customtkinter.set_default_color_theme(\"dark-blue\")  \n",
    "\n",
    "root = customtkinter.CTk()  \n",
    "root.geometry(\"500x350\") "
   ]
  },
  {
   "cell_type": "markdown",
   "id": "25989c5d-f165-4815-bde5-f60ef3fee9eb",
   "metadata": {},
   "source": [
    "In the following cell, I tried to build the **resize_and_pad_image** Function which will be trigged when the user clicks the \"Resize\" Button. The function retrieves the file path entered by the user.<br />\n",
    "\n",
    "**input_path = entry1.get()**: Gets the file path entered by the user from entry1. <br/>\n",
    "**input_path = input_path.strip('\"')**: Removes any leading or trailing quotes from the file path. I used the copy the image path using Ctrl+Shift+C or simply you can click right on your image then select \"Copy as Path\". The copied path always appears so **\"C:\\Users\\Desktop\\Image Path\"**. <br/>\n",
    "**size = (500, 500)**: Defines the target size for the resized image.<br/>\n",
    "\n",
    "For the **image processing**, if the image has an alpha channel (transparent background), it processes the image accordingly. However if it doesn't have an alpha channel, it processes the image assuming a white background. <br/>\n",
    "\n",
    "The image is resized while maintaining its aspect ratio, then padded to fit 500 x 500 pixel canvas. Finally, the processed image is saved back to the original file path.<br/>\n",
    "\n",
    "At the end I tried to add **Error Handling** to handle file not found errors and other exceptions, updating the feedback label with the appropriate message. I ensure clearing the entry field after each processing."
   ]
  },
  {
   "cell_type": "code",
   "execution_count": 3,
   "id": "6c939dba-4a2f-4de6-9160-cd8fa42a9f80",
   "metadata": {},
   "outputs": [],
   "source": [
    "def resize_and_pad_image():\n",
    "    input_path = entry1.get()  \n",
    "    input_path = input_path.strip('\"')  \n",
    "    size = (500, 500)  \n",
    "\n",
    "    try:\n",
    "        # Open the input image\n",
    "        image = Image.open(input_path)\n",
    "\n",
    "        # Check if the image has an alpha channel\n",
    "        has_alpha = image.mode in ('RGBA', 'LA') or (image.mode == 'P' and 'transparency' in image.info)\n",
    "\n",
    "        if has_alpha:\n",
    "            # Process the image with a transparent background\n",
    "            image = image.convert(\"RGBA\")\n",
    "            # Calculate the ratio\n",
    "            ratio = min(size[0] / image.width, size[1] / image.height)\n",
    "            # Calculate the new size preserving the aspect ratio\n",
    "            new_size = (int(image.width * ratio), int(image.height * ratio))\n",
    "            # Resize the image\n",
    "            image = image.resize(new_size, Image.LANCZOS)\n",
    "            # Create a new image with a transparent background\n",
    "            new_image = Image.new(\"RGBA\", size, (0, 0, 0, 0))\n",
    "            # Calculate the position to paste the resized image onto the new image\n",
    "            paste_position = ((size[0] - new_size[0]) // 2, (size[1] - new_size[1]) // 2)\n",
    "            # Paste the resized image onto the new image\n",
    "            new_image.paste(image, paste_position, image)\n",
    "\n",
    "        else:\n",
    "            # Process the image with a white background\n",
    "            image = image.convert(\"RGB\")\n",
    "            # Calculate the ratio\n",
    "            ratio = min(size[0] / image.width, size[1] / image.height)\n",
    "            # Calculate the new size preserving the aspect ratio\n",
    "            new_size = (int(image.width * ratio), int(image.height * ratio))\n",
    "            # Resize the image\n",
    "            image = image.resize(new_size, Image.LANCZOS)\n",
    "            # Create a new image with a white background\n",
    "            new_image = Image.new(\"RGB\", size, (255, 255, 255))\n",
    "            # Calculate the position to paste the resized image onto the new image\n",
    "            paste_position = ((size[0] - new_size[0]) // 2, (size[1] - new_size[1]) // 2)\n",
    "            # Paste the resized image onto the new image\n",
    "            new_image.paste(image, paste_position)\n",
    "\n",
    "        # Save the new image, overwriting the original file\n",
    "        new_image.save(input_path)\n",
    "        label3.configure(text=\"Image resized and saved\")\n",
    "\n",
    "    except FileNotFoundError:\n",
    "        label3.configure(text=\"The specified file was not found.\")\n",
    "    except Exception as e:\n",
    "        label3.configure(text=f\"An error occurred: {e}\")\n",
    "\n",
    "    # Clear the entry1 content\n",
    "    entry1.delete(0, customtkinter.END)"
   ]
  },
  {
   "cell_type": "markdown",
   "id": "1a8b813b-a70d-4121-b0ef-21683dabbcbd",
   "metadata": {},
   "source": [
    "In the next cell, I defined the **Frame** widget to hold the GUI components, **Labels** to display static text and feedback messages, **Entry** widget for the user to input the image path, and **Button** to trigger the \"resize_and_pad_image\" function.<br/>\n",
    "\n",
    "We find also the even loop **root.mainloop()** that keeps the GUI running until the user closes the window."
   ]
  },
  {
   "cell_type": "code",
   "execution_count": 4,
   "id": "6d981b14-31c7-45d1-a4e3-5042338d9271",
   "metadata": {},
   "outputs": [],
   "source": [
    "frame = customtkinter.CTkFrame(master=root)\n",
    "frame.pack(pady=20, padx=60, fill=\"both\", expand=True)\n",
    "\n",
    "label1 = customtkinter.CTkLabel(master=frame, text='Resize Image System')\n",
    "label1.pack(pady=12, padx=10)\n",
    "\n",
    "entry1 = customtkinter.CTkEntry(master=frame, placeholder_text=\"Enter Image Path\", width=200)\n",
    "root.update()\n",
    "entry1.focus_set()\n",
    "entry1.pack(pady=12, padx=10)\n",
    "\n",
    "button = customtkinter.CTkButton(master=frame, text=\"Resize\", command=resize_and_pad_image)\n",
    "button.pack(pady=12, padx=10)\n",
    "\n",
    "label2 = customtkinter.CTkLabel(master=frame, text='Feedback :')\n",
    "label2.pack(pady=12, padx=10)\n",
    "\n",
    "label3 = customtkinter.CTkLabel(master=frame, text='')\n",
    "label3.pack(pady=12, padx=10)\n",
    "\n",
    "root.mainloop()"
   ]
  },
  {
   "cell_type": "markdown",
   "id": "5f08891d-0750-4a4a-9ebe-b4b0137e0a00",
   "metadata": {},
   "source": [
    "## Second Version"
   ]
  },
  {
   "cell_type": "markdown",
   "id": "a3bf9abf-63ff-432e-8041-9509caf5e66c",
   "metadata": {},
   "source": [
    "In this version, I just updated the user§friendly GUI app that allowed me to monitor a specified folder for new image files. When new images are added, they are automatically resized and padded to fit a 500 x 500 pixel canvas, handling both transparent and non-transparent backgrounds. The start and stop functionality for folder monitoring provided me with control over the process."
   ]
  },
  {
   "cell_type": "code",
   "execution_count": 1,
   "id": "cf5777c8-5e66-42b7-a12e-7b44bc5828aa",
   "metadata": {},
   "outputs": [],
   "source": [
    "import time\n",
    "import os\n",
    "import customtkinter  # Import the CustomTkinter module\n",
    "from PIL import Image\n",
    "from watchdog.observers import Observer\n",
    "from watchdog.events import FileSystemEventHandler\n",
    "\n",
    "customtkinter.set_appearance_mode(\"light\")  # Set the appearance mode to light\n",
    "customtkinter.set_default_color_theme(\"dark-blue\")  # Set the default color theme to dark-blue\n",
    "\n",
    "root = customtkinter.CTk()  # Initialize the main window\n",
    "root.geometry(\"500x350\")  # Set the window size\n",
    "\n",
    "observer = None  # Global observer variable\n",
    "\n",
    "\n",
    "class ImageHandler(FileSystemEventHandler):\n",
    "    def __init__(self, size=(500, 500)):\n",
    "        self.size = size\n",
    "\n",
    "    def on_created(self, event):\n",
    "        if not event.is_directory and event.src_path.lower().endswith(('png', 'jpg', 'jpeg')):\n",
    "            self.resize_and_pad_image(event.src_path)\n",
    "            root.focus_force()\n",
    "\n",
    "    def resize_and_pad_image(self, input_path, retries=5, delay=0.5):\n",
    "        for attempt in range(retries):\n",
    "            try:\n",
    "                # Open the input image\n",
    "                image = Image.open(input_path)\n",
    "\n",
    "                if image.mode in ('RGBA', 'LA') or (image.mode == 'P' and 'transparency' in image.info):\n",
    "                    # Image has transparency\n",
    "                    image = image.convert(\"RGBA\")\n",
    "                    # Calculate the ratio\n",
    "                    ratio = min(self.size[0] / image.width, self.size[1] / image.height)\n",
    "                    # Calculate the new size preserving the aspect ratio\n",
    "                    new_size = (int(image.width * ratio), int(image.height * ratio))\n",
    "                    # Resize the image\n",
    "                    image = image.resize(new_size, Image.LANCZOS)\n",
    "                    # Create a new image with a transparent background\n",
    "                    new_image = Image.new(\"RGBA\", self.size, (0, 0, 0, 0))\n",
    "                    # Calculate the position to paste the resized image onto the new image\n",
    "                    paste_position = ((self.size[0] - new_size[0]) // 2, (self.size[1] - new_size[1]) // 2)\n",
    "                    # Paste the resized image onto the new image\n",
    "                    new_image.paste(image, paste_position, image)\n",
    "\n",
    "                else:\n",
    "                    # Image does not have transparency, assume it has a white background\n",
    "                    image = image.convert(\"RGB\")\n",
    "                    # Calculate the ratio\n",
    "                    ratio = min(self.size[0] / image.width, self.size[1] / image.height)\n",
    "                    # Calculate the new size preserving the aspect ratio\n",
    "                    new_size = (int(image.width * ratio), int(image.height * ratio))\n",
    "                    # Resize the image\n",
    "                    image = image.resize(new_size, Image.LANCZOS)\n",
    "                    # Create a new image with a white background\n",
    "                    new_image = Image.new(\"RGB\", self.size, (255, 255, 255))\n",
    "                    # Calculate the position to paste the resized image onto the new image\n",
    "                    paste_position = ((self.size[0] - new_size[0]) // 2, (self.size[1] - new_size[1]) // 2)\n",
    "                    # Paste the resized image onto the new image\n",
    "                    new_image.paste(image, paste_position)\n",
    "\n",
    "                # Save the new image, overwriting the original file\n",
    "                new_image.save(input_path)\n",
    "                label3.configure(text=\"Image resized and saved\")\n",
    "                root.focus_force()\n",
    "                return\n",
    "\n",
    "            except FileNotFoundError:\n",
    "                label3.configure(text=\"The specified file was not found. Retrying...\")\n",
    "                root.focus_force()\n",
    "                time.sleep(delay)\n",
    "            except Exception as e:\n",
    "                label3.configure(text=f\"An error occurred: {e}\")\n",
    "                root.focus_force()\n",
    "                return\n",
    "\n",
    "\n",
    "def start_watching():\n",
    "    global observer\n",
    "    folder_path = entry1.get()  # Get the folder path from entry1\n",
    "    folder_path = folder_path.strip('\"')\n",
    "    if not os.path.isdir(folder_path):\n",
    "        label3.configure(text=\"The specified path is not a valid folder.\")\n",
    "        root.focus_force()\n",
    "        return\n",
    "\n",
    "    event_handler = ImageHandler()\n",
    "    observer = Observer()\n",
    "    observer.schedule(event_handler, path=folder_path, recursive=False)\n",
    "    observer.start()\n",
    "    label3.configure(text=f\"Watching folder: {folder_path}\")\n",
    "    root.focus_force()\n",
    "\n",
    "\n",
    "def stop_watching():\n",
    "    global observer\n",
    "    if observer:\n",
    "        observer.stop()\n",
    "        observer.join()\n",
    "        observer = None\n",
    "        label3.configure(text=\"Stopped watching.\")\n",
    "        root.focus_force()\n",
    "\n",
    "\n",
    "frame = customtkinter.CTkFrame(master=root)\n",
    "frame.pack(pady=20, padx=60, fill=\"both\", expand=True)\n",
    "\n",
    "label1 = customtkinter.CTkLabel(master=frame, text='Resize Image System')\n",
    "label1.pack(pady=12, padx=10)\n",
    "\n",
    "entry1 = customtkinter.CTkEntry(master=frame, placeholder_text=\"Enter Folder Path\", width=200)\n",
    "root.update()\n",
    "entry1.focus_set()\n",
    "entry1.pack(pady=12, padx=10)\n",
    "\n",
    "button_start = customtkinter.CTkButton(master=frame, text=\"Start Watching\", command=start_watching)\n",
    "button_start.pack(pady=12, padx=10)\n",
    "\n",
    "button_stop = customtkinter.CTkButton(master=frame, text=\"Stop Watching\", command=stop_watching)\n",
    "button_stop.pack(pady=12, padx=10)\n",
    "\n",
    "label2 = customtkinter.CTkLabel(master=frame, text='Feedback :')\n",
    "label2.pack(pady=12, padx=10)\n",
    "\n",
    "label3 = customtkinter.CTkLabel(master=frame, text='')\n",
    "label3.pack(pady=12, padx=10)\n",
    "\n",
    "root.mainloop()"
   ]
  },
  {
   "cell_type": "markdown",
   "id": "507ca4ca-b521-40e7-a284-53aa11326022",
   "metadata": {},
   "source": [
    "## Conclusion"
   ]
  },
  {
   "cell_type": "markdown",
   "id": "e8ffa466-de37-4097-be09-ad04a50500cf",
   "metadata": {},
   "source": [
    "I am fully aware that the provided app is not really that big thing, but it actually does the work, which matters to me. I've always had the idea of automating boring tasks and putting my brilliant ideas into effect. I can not say that it's always easy and feasible but it certainly helps and saves time."
   ]
  }
 ],
 "metadata": {
  "kernelspec": {
   "display_name": "Python 3 (ipykernel)",
   "language": "python",
   "name": "python3"
  },
  "language_info": {
   "codemirror_mode": {
    "name": "ipython",
    "version": 3
   },
   "file_extension": ".py",
   "mimetype": "text/x-python",
   "name": "python",
   "nbconvert_exporter": "python",
   "pygments_lexer": "ipython3",
   "version": "3.12.2"
  }
 },
 "nbformat": 4,
 "nbformat_minor": 5
}
